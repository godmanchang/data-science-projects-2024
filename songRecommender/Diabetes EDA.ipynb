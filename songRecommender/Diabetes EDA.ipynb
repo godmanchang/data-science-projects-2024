{
 "cells": [
  {
   "cell_type": "markdown",
   "metadata": {},
   "source": [
    "\n",
    "# Exploratory Data Analysis of the Diabetes Dataset\n",
    "\n",
    "### Questions answered: \n",
    "\n",
    "1) What are the mean, median, std for each feature?\n",
    "\n",
    "2) Are there any outliers in this dataset in the features?\n",
    "\n",
    "3) Look up how to visualize correlations. What can you say about correlations in the dataset?\n",
    "\n",
    "4) Plot a histogram of the target variable. What can you say about it?\n"
   ]
  },
  {
   "cell_type": "code",
   "execution_count": 2,
   "metadata": {},
   "outputs": [
    {
     "data": {
      "text/html": [
       "<div>\n",
       "<style scoped>\n",
       "    .dataframe tbody tr th:only-of-type {\n",
       "        vertical-align: middle;\n",
       "    }\n",
       "\n",
       "    .dataframe tbody tr th {\n",
       "        vertical-align: top;\n",
       "    }\n",
       "\n",
       "    .dataframe thead th {\n",
       "        text-align: right;\n",
       "    }\n",
       "</style>\n",
       "<table border=\"1\" class=\"dataframe\">\n",
       "  <thead>\n",
       "    <tr style=\"text-align: right;\">\n",
       "      <th></th>\n",
       "      <th>age</th>\n",
       "      <th>sex</th>\n",
       "      <th>bmi</th>\n",
       "      <th>bp</th>\n",
       "      <th>s1</th>\n",
       "      <th>s2</th>\n",
       "      <th>s3</th>\n",
       "      <th>s4</th>\n",
       "      <th>s5</th>\n",
       "      <th>s6</th>\n",
       "      <th>target</th>\n",
       "    </tr>\n",
       "  </thead>\n",
       "  <tbody>\n",
       "    <tr>\n",
       "      <th>0</th>\n",
       "      <td>59.0</td>\n",
       "      <td>2.0</td>\n",
       "      <td>32.1</td>\n",
       "      <td>101.0</td>\n",
       "      <td>157.0</td>\n",
       "      <td>93.2</td>\n",
       "      <td>38.0</td>\n",
       "      <td>4.0</td>\n",
       "      <td>4.8598</td>\n",
       "      <td>87.0</td>\n",
       "      <td>151.0</td>\n",
       "    </tr>\n",
       "    <tr>\n",
       "      <th>1</th>\n",
       "      <td>48.0</td>\n",
       "      <td>1.0</td>\n",
       "      <td>21.6</td>\n",
       "      <td>87.0</td>\n",
       "      <td>183.0</td>\n",
       "      <td>103.2</td>\n",
       "      <td>70.0</td>\n",
       "      <td>3.0</td>\n",
       "      <td>3.8918</td>\n",
       "      <td>69.0</td>\n",
       "      <td>75.0</td>\n",
       "    </tr>\n",
       "    <tr>\n",
       "      <th>2</th>\n",
       "      <td>72.0</td>\n",
       "      <td>2.0</td>\n",
       "      <td>30.5</td>\n",
       "      <td>93.0</td>\n",
       "      <td>156.0</td>\n",
       "      <td>93.6</td>\n",
       "      <td>41.0</td>\n",
       "      <td>4.0</td>\n",
       "      <td>4.6728</td>\n",
       "      <td>85.0</td>\n",
       "      <td>141.0</td>\n",
       "    </tr>\n",
       "    <tr>\n",
       "      <th>3</th>\n",
       "      <td>24.0</td>\n",
       "      <td>1.0</td>\n",
       "      <td>25.3</td>\n",
       "      <td>84.0</td>\n",
       "      <td>198.0</td>\n",
       "      <td>131.4</td>\n",
       "      <td>40.0</td>\n",
       "      <td>5.0</td>\n",
       "      <td>4.8903</td>\n",
       "      <td>89.0</td>\n",
       "      <td>206.0</td>\n",
       "    </tr>\n",
       "    <tr>\n",
       "      <th>4</th>\n",
       "      <td>50.0</td>\n",
       "      <td>1.0</td>\n",
       "      <td>23.0</td>\n",
       "      <td>101.0</td>\n",
       "      <td>192.0</td>\n",
       "      <td>125.4</td>\n",
       "      <td>52.0</td>\n",
       "      <td>4.0</td>\n",
       "      <td>4.2905</td>\n",
       "      <td>80.0</td>\n",
       "      <td>135.0</td>\n",
       "    </tr>\n",
       "  </tbody>\n",
       "</table>\n",
       "</div>"
      ],
      "text/plain": [
       "    age  sex   bmi     bp     s1     s2    s3   s4      s5    s6  target\n",
       "0  59.0  2.0  32.1  101.0  157.0   93.2  38.0  4.0  4.8598  87.0   151.0\n",
       "1  48.0  1.0  21.6   87.0  183.0  103.2  70.0  3.0  3.8918  69.0    75.0\n",
       "2  72.0  2.0  30.5   93.0  156.0   93.6  41.0  4.0  4.6728  85.0   141.0\n",
       "3  24.0  1.0  25.3   84.0  198.0  131.4  40.0  5.0  4.8903  89.0   206.0\n",
       "4  50.0  1.0  23.0  101.0  192.0  125.4  52.0  4.0  4.2905  80.0   135.0"
      ]
     },
     "execution_count": 2,
     "metadata": {},
     "output_type": "execute_result"
    }
   ],
   "source": [
    "# Import Packages\n",
    "import numpy as np\n",
    "import pandas as pd\n",
    "import matplotlib.pyplot as plt\n",
    "import seaborn as sns\n",
    "from sklearn import datasets\n",
    "\n",
    "# Load dataset\n",
    "data = datasets.load_diabetes(scaled=False)\n",
    "df = pd.DataFrame(data = data['data'])\n",
    "df.columns = data['feature_names']\n",
    "df['target'] = data['target']\n",
    "df.head()\n"
   ]
  },
  {
   "cell_type": "markdown",
   "metadata": {},
   "source": [
    "\n",
    "## Age Feature: \n",
    "\n",
    "##### Description: The standardized age in years of patient\n",
    "\n",
    "\n",
    "Outliers are displayed in a dataframe below the box-plot. If there are none, the dataframe is empty"
   ]
  },
  {
   "cell_type": "code",
   "execution_count": 3,
   "metadata": {},
   "outputs": [
    {
     "name": "stdout",
     "output_type": "stream",
     "text": [
      "The mean age is 48.51809954751131\n",
      "The median age is 50.0\n",
      "The standard deviation of age is 13.109027822041092\n",
      "\n",
      "\n",
      "Outliers in the 'age' column:\n"
     ]
    },
    {
     "data": {
      "text/html": [
       "<div>\n",
       "<style scoped>\n",
       "    .dataframe tbody tr th:only-of-type {\n",
       "        vertical-align: middle;\n",
       "    }\n",
       "\n",
       "    .dataframe tbody tr th {\n",
       "        vertical-align: top;\n",
       "    }\n",
       "\n",
       "    .dataframe thead th {\n",
       "        text-align: right;\n",
       "    }\n",
       "</style>\n",
       "<table border=\"1\" class=\"dataframe\">\n",
       "  <thead>\n",
       "    <tr style=\"text-align: right;\">\n",
       "      <th></th>\n",
       "      <th>age</th>\n",
       "    </tr>\n",
       "  </thead>\n",
       "  <tbody>\n",
       "  </tbody>\n",
       "</table>\n",
       "</div>"
      ],
      "text/plain": [
       "Empty DataFrame\n",
       "Columns: [age]\n",
       "Index: []"
      ]
     },
     "execution_count": 3,
     "metadata": {},
     "output_type": "execute_result"
    }
   ],
   "source": [
    "mean_age = df['age'].mean()\n",
    "median_age = df['age'].median()\n",
    "std_age = df['age'].std()\n",
    "print(f\"The mean age is {mean_age}\")\n",
    "print(f\"The median age is {median_age}\")\n",
    "print(f\"The standard deviation of age is {std_age}\\n\\n\")\n",
    "\n",
    "Q1 = df['age'].quantile(0.25)\n",
    "Q3 = df['age'].quantile(0.75)\n",
    "\n",
    "# Calculate the Interquartile Range (IQR)\n",
    "IQR = Q3 - Q1\n",
    "\n",
    "# Determine outliers using IQR method\n",
    "outliers = (df['age'] < (Q1 - 1.5 * IQR)) | (df['age'] > (Q3 + 1.5 * IQR))\n",
    "\n",
    "# Filter the DataFrame to show outliers\n",
    "outliers_df = df[outliers][['age']]\n",
    "\n",
    "# Show outliers\n",
    "print(\"Outliers in the 'age' column:\")\n",
    "outliers_df\n"
   ]
  },
  {
   "cell_type": "markdown",
   "metadata": {},
   "source": [
    "\n",
    "## Sex Feature: \n",
    "\n",
    "##### Description: The sex of the patient\n",
    "\n",
    "Analysis: There is an imbalance of sexes as the mean is not 1.5\n",
    "\n",
    "\n",
    "Outliers are displayed in a dataframe below the box-plot. If there are none, the dataframe is empty"
   ]
  },
  {
   "cell_type": "code",
   "execution_count": 4,
   "metadata": {},
   "outputs": [
    {
     "name": "stdout",
     "output_type": "stream",
     "text": [
      "The mean sex is 1.4683257918552035\n",
      "The median sex is 1.0\n",
      "The standard deviation of sex is 0.4995611704353544\n",
      "\n",
      "\n",
      "Outliers in the 'sex' column:\n"
     ]
    },
    {
     "data": {
      "text/html": [
       "<div>\n",
       "<style scoped>\n",
       "    .dataframe tbody tr th:only-of-type {\n",
       "        vertical-align: middle;\n",
       "    }\n",
       "\n",
       "    .dataframe tbody tr th {\n",
       "        vertical-align: top;\n",
       "    }\n",
       "\n",
       "    .dataframe thead th {\n",
       "        text-align: right;\n",
       "    }\n",
       "</style>\n",
       "<table border=\"1\" class=\"dataframe\">\n",
       "  <thead>\n",
       "    <tr style=\"text-align: right;\">\n",
       "      <th></th>\n",
       "      <th>sex</th>\n",
       "    </tr>\n",
       "  </thead>\n",
       "  <tbody>\n",
       "  </tbody>\n",
       "</table>\n",
       "</div>"
      ],
      "text/plain": [
       "Empty DataFrame\n",
       "Columns: [sex]\n",
       "Index: []"
      ]
     },
     "execution_count": 4,
     "metadata": {},
     "output_type": "execute_result"
    }
   ],
   "source": [
    "mean_sex = df['sex'].mean()\n",
    "median_sex = df['sex'].median()\n",
    "std_sex = df['sex'].std()\n",
    "print(f\"The mean sex is {mean_sex}\")\n",
    "print(f\"The median sex is {median_sex}\")\n",
    "print(f\"The standard deviation of sex is {std_sex}\\n\\n\")\n",
    "\n",
    "Q1 = df['sex'].quantile(0.25)\n",
    "Q3 = df['sex'].quantile(0.75)\n",
    "\n",
    "# Calculate the Interquartile Range (IQR)\n",
    "IQR = Q3 - Q1\n",
    "\n",
    "# Determine outliers using IQR method\n",
    "outliers = (df['sex'] < (Q1 - 1.5 * IQR)) | (df['sex'] > (Q3 + 1.5 * IQR))\n",
    "\n",
    "# Filter the DataFrame to show outliers\n",
    "outliers_df = df[outliers][['sex']]\n",
    "\n",
    "# Show outliers\n",
    "print(\"Outliers in the 'sex' column:\")\n",
    "outliers_df\n"
   ]
  },
  {
   "cell_type": "markdown",
   "metadata": {},
   "source": [
    "\n",
    "## BMI Feature: \n",
    "\n",
    "##### Description: The patients BMI\n",
    "\n",
    "Analysis: Borderline overweight\n",
    "\n",
    "\n",
    "Outliers are displayed in a dataframe below the box-plot. If there are none, the dataframe is empty"
   ]
  },
  {
   "cell_type": "code",
   "execution_count": 5,
   "metadata": {},
   "outputs": [
    {
     "name": "stdout",
     "output_type": "stream",
     "text": [
      "The mean bmi is 26.37579185520362\n",
      "The median bmi is 25.7\n",
      "The standard deviation of bmi is 4.4181215606157735\n",
      "\n",
      "\n",
      "Outliers in the 'bmi' column:\n"
     ]
    },
    {
     "data": {
      "text/html": [
       "<div>\n",
       "<style scoped>\n",
       "    .dataframe tbody tr th:only-of-type {\n",
       "        vertical-align: middle;\n",
       "    }\n",
       "\n",
       "    .dataframe tbody tr th {\n",
       "        vertical-align: top;\n",
       "    }\n",
       "\n",
       "    .dataframe thead th {\n",
       "        text-align: right;\n",
       "    }\n",
       "</style>\n",
       "<table border=\"1\" class=\"dataframe\">\n",
       "  <thead>\n",
       "    <tr style=\"text-align: right;\">\n",
       "      <th></th>\n",
       "      <th>bmi</th>\n",
       "    </tr>\n",
       "  </thead>\n",
       "  <tbody>\n",
       "    <tr>\n",
       "      <th>256</th>\n",
       "      <td>41.3</td>\n",
       "    </tr>\n",
       "    <tr>\n",
       "      <th>366</th>\n",
       "      <td>39.1</td>\n",
       "    </tr>\n",
       "    <tr>\n",
       "      <th>367</th>\n",
       "      <td>42.2</td>\n",
       "    </tr>\n",
       "  </tbody>\n",
       "</table>\n",
       "</div>"
      ],
      "text/plain": [
       "      bmi\n",
       "256  41.3\n",
       "366  39.1\n",
       "367  42.2"
      ]
     },
     "execution_count": 5,
     "metadata": {},
     "output_type": "execute_result"
    }
   ],
   "source": [
    "mean_bmi = df['bmi'].mean()\n",
    "median_bmi = df['bmi'].median()\n",
    "std_bmi = df['bmi'].std()\n",
    "print(f\"The mean bmi is {mean_bmi}\")\n",
    "print(f\"The median bmi is {median_bmi}\")\n",
    "print(f\"The standard deviation of bmi is {std_bmi}\\n\\n\")\n",
    "\n",
    "Q1 = df['bmi'].quantile(0.25)\n",
    "Q3 = df['bmi'].quantile(0.75)\n",
    "\n",
    "# Calculate the Interquartile Range (IQR)\n",
    "IQR = Q3 - Q1\n",
    "\n",
    "# Determine outliers using IQR method\n",
    "outliers = (df['bmi'] < (Q1 - 1.5 * IQR)) | (df['bmi'] > (Q3 + 1.5 * IQR))\n",
    "\n",
    "# Filter the DataFrame to show outliers\n",
    "outliers_df = df[outliers][['bmi']]\n",
    "\n",
    "# Show outliers\n",
    "print(\"Outliers in the 'bmi' column:\")\n",
    "outliers_df"
   ]
  },
  {
   "cell_type": "markdown",
   "metadata": {},
   "source": [
    "\n",
    "## BP Feature: \n",
    "\n",
    "##### Description: The patients blood pressure\n",
    "\n",
    "Analysis:\n",
    "\n",
    "\n",
    "Outliers are displayed in a dataframe below the box-plot. If there are none, the dataframe is empty"
   ]
  },
  {
   "cell_type": "code",
   "execution_count": 6,
   "metadata": {},
   "outputs": [
    {
     "name": "stdout",
     "output_type": "stream",
     "text": [
      "The mean bp is 94.64701357466062\n",
      "The median bp is 93.0\n",
      "The standard deviation of bp is 13.831283419782999\n",
      "\n",
      "\n",
      "Outliers in the 'bp' column:\n"
     ]
    },
    {
     "data": {
      "text/html": [
       "<div>\n",
       "<style scoped>\n",
       "    .dataframe tbody tr th:only-of-type {\n",
       "        vertical-align: middle;\n",
       "    }\n",
       "\n",
       "    .dataframe tbody tr th {\n",
       "        vertical-align: top;\n",
       "    }\n",
       "\n",
       "    .dataframe thead th {\n",
       "        text-align: right;\n",
       "    }\n",
       "</style>\n",
       "<table border=\"1\" class=\"dataframe\">\n",
       "  <thead>\n",
       "    <tr style=\"text-align: right;\">\n",
       "      <th></th>\n",
       "      <th>bp</th>\n",
       "    </tr>\n",
       "  </thead>\n",
       "  <tbody>\n",
       "  </tbody>\n",
       "</table>\n",
       "</div>"
      ],
      "text/plain": [
       "Empty DataFrame\n",
       "Columns: [bp]\n",
       "Index: []"
      ]
     },
     "execution_count": 6,
     "metadata": {},
     "output_type": "execute_result"
    }
   ],
   "source": [
    "mean_bp = df['bp'].mean()\n",
    "median_bp = df['bp'].median()\n",
    "std_bp = df['bp'].std()\n",
    "print(f\"The mean bp is {mean_bp}\")\n",
    "print(f\"The median bp is {median_bp}\")\n",
    "print(f\"The standard deviation of bp is {std_bp}\\n\\n\")\n",
    "\n",
    "Q1 = df['bp'].quantile(0.25)\n",
    "Q3 = df['bp'].quantile(0.75)\n",
    "\n",
    "# Calculate the Interquartile Range (IQR)\n",
    "IQR = Q3 - Q1\n",
    "\n",
    "# Determine outliers using IQR method\n",
    "outliers = (df['bp'] < (Q1 - 1.5 * IQR)) | (df['bp'] > (Q3 + 1.5 * IQR))\n",
    "\n",
    "# Filter the DataFrame to show outliers\n",
    "outliers_df = df[outliers][['bp']]\n",
    "\n",
    "# Show outliers\n",
    "print(\"Outliers in the 'bp' column:\")\n",
    "outliers_df"
   ]
  },
  {
   "cell_type": "markdown",
   "metadata": {},
   "source": [
    "\n",
    "\n",
    "## s1 Feature: Total serum cholesterol \n",
    "\n",
    "##### Description: Amount of cholesterol in patients blood\n",
    "\n",
    "Analysis:\n",
    "\n",
    "\n",
    "\n",
    "Outliers are displayed in a dataframe below the box-plot. If there are none, the dataframe is empty"
   ]
  },
  {
   "cell_type": "code",
   "execution_count": 7,
   "metadata": {},
   "outputs": [
    {
     "name": "stdout",
     "output_type": "stream",
     "text": [
      "The mean s1 is 189.14027149321268\n",
      "The median s1 is 186.0\n",
      "The standard deviation of s1 is 34.60805167504306\n",
      "\n",
      "\n",
      "Outliers in the 's1' column:\n"
     ]
    },
    {
     "data": {
      "text/html": [
       "<div>\n",
       "<style scoped>\n",
       "    .dataframe tbody tr th:only-of-type {\n",
       "        vertical-align: middle;\n",
       "    }\n",
       "\n",
       "    .dataframe tbody tr th {\n",
       "        vertical-align: top;\n",
       "    }\n",
       "\n",
       "    .dataframe thead th {\n",
       "        text-align: right;\n",
       "    }\n",
       "</style>\n",
       "<table border=\"1\" class=\"dataframe\">\n",
       "  <thead>\n",
       "    <tr style=\"text-align: right;\">\n",
       "      <th></th>\n",
       "      <th>s1</th>\n",
       "    </tr>\n",
       "  </thead>\n",
       "  <tbody>\n",
       "    <tr>\n",
       "      <th>123</th>\n",
       "      <td>300.0</td>\n",
       "    </tr>\n",
       "    <tr>\n",
       "      <th>161</th>\n",
       "      <td>286.0</td>\n",
       "    </tr>\n",
       "    <tr>\n",
       "      <th>202</th>\n",
       "      <td>281.0</td>\n",
       "    </tr>\n",
       "    <tr>\n",
       "      <th>230</th>\n",
       "      <td>301.0</td>\n",
       "    </tr>\n",
       "    <tr>\n",
       "      <th>248</th>\n",
       "      <td>282.0</td>\n",
       "    </tr>\n",
       "    <tr>\n",
       "      <th>276</th>\n",
       "      <td>280.0</td>\n",
       "    </tr>\n",
       "    <tr>\n",
       "      <th>287</th>\n",
       "      <td>280.0</td>\n",
       "    </tr>\n",
       "    <tr>\n",
       "      <th>346</th>\n",
       "      <td>282.0</td>\n",
       "    </tr>\n",
       "  </tbody>\n",
       "</table>\n",
       "</div>"
      ],
      "text/plain": [
       "        s1\n",
       "123  300.0\n",
       "161  286.0\n",
       "202  281.0\n",
       "230  301.0\n",
       "248  282.0\n",
       "276  280.0\n",
       "287  280.0\n",
       "346  282.0"
      ]
     },
     "execution_count": 7,
     "metadata": {},
     "output_type": "execute_result"
    }
   ],
   "source": [
    "mean_s1 = df['s1'].mean()\n",
    "median_s1 = df['s1'].median()\n",
    "std_s1 = df['s1'].std()\n",
    "print(f\"The mean s1 is {mean_s1}\")\n",
    "print(f\"The median s1 is {median_s1}\")\n",
    "print(f\"The standard deviation of s1 is {std_s1}\\n\\n\")\n",
    "\n",
    "Q1 = df['s1'].quantile(0.25)\n",
    "Q3 = df['s1'].quantile(0.75)\n",
    "\n",
    "# Calculate the Interquartile Range (IQR)\n",
    "IQR = Q3 - Q1\n",
    "\n",
    "# Determine outliers using IQR method\n",
    "outliers = (df['s1'] < (Q1 - 1.5 * IQR)) | (df['s1'] > (Q3 + 1.5 * IQR))\n",
    "\n",
    "# Filter the DataFrame to show outliers\n",
    "outliers_df = df[outliers][['s1']]\n",
    "\n",
    "# Show outliers\n",
    "print(\"Outliers in the 's1' column:\")\n",
    "outliers_df"
   ]
  },
  {
   "cell_type": "markdown",
   "metadata": {},
   "source": [
    "\n",
    "\n",
    "## s2 Feature: Low-density lipoproteins\n",
    "\n",
    "##### Description: Type of fat that transports cholesterol in the blood (\"bad\" cholesterol)\n",
    "\n",
    "Analysis:\n",
    "\n",
    "\n",
    "Outliers are displayed in a dataframe below the box-plot. If there are none, the dataframe is empty\n"
   ]
  },
  {
   "cell_type": "code",
   "execution_count": 8,
   "metadata": {},
   "outputs": [
    {
     "name": "stdout",
     "output_type": "stream",
     "text": [
      "The mean s2 is 115.43914027149322\n",
      "The median s2 is 113.0\n",
      "The standard deviation of s2 is 30.413080969276546\n",
      "\n",
      "\n",
      "Outliers in the 's2' column:\n"
     ]
    },
    {
     "data": {
      "text/html": [
       "<div>\n",
       "<style scoped>\n",
       "    .dataframe tbody tr th:only-of-type {\n",
       "        vertical-align: middle;\n",
       "    }\n",
       "\n",
       "    .dataframe tbody tr th {\n",
       "        vertical-align: top;\n",
       "    }\n",
       "\n",
       "    .dataframe thead th {\n",
       "        text-align: right;\n",
       "    }\n",
       "</style>\n",
       "<table border=\"1\" class=\"dataframe\">\n",
       "  <thead>\n",
       "    <tr style=\"text-align: right;\">\n",
       "      <th></th>\n",
       "      <th>s2</th>\n",
       "    </tr>\n",
       "  </thead>\n",
       "  <tbody>\n",
       "    <tr>\n",
       "      <th>123</th>\n",
       "      <td>242.4</td>\n",
       "    </tr>\n",
       "    <tr>\n",
       "      <th>161</th>\n",
       "      <td>199.4</td>\n",
       "    </tr>\n",
       "    <tr>\n",
       "      <th>230</th>\n",
       "      <td>215.0</td>\n",
       "    </tr>\n",
       "    <tr>\n",
       "      <th>248</th>\n",
       "      <td>197.2</td>\n",
       "    </tr>\n",
       "    <tr>\n",
       "      <th>287</th>\n",
       "      <td>195.4</td>\n",
       "    </tr>\n",
       "    <tr>\n",
       "      <th>346</th>\n",
       "      <td>196.8</td>\n",
       "    </tr>\n",
       "    <tr>\n",
       "      <th>376</th>\n",
       "      <td>198.6</td>\n",
       "    </tr>\n",
       "  </tbody>\n",
       "</table>\n",
       "</div>"
      ],
      "text/plain": [
       "        s2\n",
       "123  242.4\n",
       "161  199.4\n",
       "230  215.0\n",
       "248  197.2\n",
       "287  195.4\n",
       "346  196.8\n",
       "376  198.6"
      ]
     },
     "execution_count": 8,
     "metadata": {},
     "output_type": "execute_result"
    }
   ],
   "source": [
    "mean_s2 = df['s2'].mean()\n",
    "median_s2 = df['s2'].median()\n",
    "std_s2 = df['s2'].std()\n",
    "print(f\"The mean s2 is {mean_s2}\")\n",
    "print(f\"The median s2 is {median_s2}\")\n",
    "print(f\"The standard deviation of s2 is {std_s2}\\n\\n\")\n",
    "\n",
    "Q1 = df['s2'].quantile(0.25)\n",
    "Q3 = df['s2'].quantile(0.75)\n",
    "\n",
    "# Calculate the Interquartile Range (IQR)\n",
    "IQR = Q3 - Q1\n",
    "\n",
    "# Determine outliers using IQR method\n",
    "outliers = (df['s2'] < (Q1 - 1.5 * IQR)) | (df['s2'] > (Q3 + 1.5 * IQR))\n",
    "\n",
    "# Filter the DataFrame to show outliers\n",
    "outliers_df = df[outliers][['s2']]\n",
    "\n",
    "# Show outliers\n",
    "print(\"Outliers in the 's2' column:\")\n",
    "outliers_df"
   ]
  },
  {
   "cell_type": "markdown",
   "metadata": {},
   "source": [
    "\n",
    "\n",
    "## s3 Feature: High-density lipoproteins\n",
    "\n",
    "##### Description: Helps remove other forms of cholesterol from your bloodstream (\"good\" cholesterol)\n",
    "\n",
    "Analysis:\n",
    "\n",
    "\n",
    "Outliers are displayed in a dataframe below the box-plot. If there are none, the dataframe is empty"
   ]
  },
  {
   "cell_type": "code",
   "execution_count": 9,
   "metadata": {},
   "outputs": [
    {
     "name": "stdout",
     "output_type": "stream",
     "text": [
      "The mean s3 is 49.78846153846154\n",
      "The median s3 is 48.0\n",
      "The standard deviation of s3 is 12.934202154863327\n",
      "\n",
      "\n",
      "Outliers in the 's3' column:\n"
     ]
    },
    {
     "data": {
      "text/html": [
       "<div>\n",
       "<style scoped>\n",
       "    .dataframe tbody tr th:only-of-type {\n",
       "        vertical-align: middle;\n",
       "    }\n",
       "\n",
       "    .dataframe tbody tr th {\n",
       "        vertical-align: top;\n",
       "    }\n",
       "\n",
       "    .dataframe thead th {\n",
       "        text-align: right;\n",
       "    }\n",
       "</style>\n",
       "<table border=\"1\" class=\"dataframe\">\n",
       "  <thead>\n",
       "    <tr style=\"text-align: right;\">\n",
       "      <th></th>\n",
       "      <th>s3</th>\n",
       "    </tr>\n",
       "  </thead>\n",
       "  <tbody>\n",
       "    <tr>\n",
       "      <th>35</th>\n",
       "      <td>86.0</td>\n",
       "    </tr>\n",
       "    <tr>\n",
       "      <th>58</th>\n",
       "      <td>99.0</td>\n",
       "    </tr>\n",
       "    <tr>\n",
       "      <th>260</th>\n",
       "      <td>91.0</td>\n",
       "    </tr>\n",
       "    <tr>\n",
       "      <th>261</th>\n",
       "      <td>98.0</td>\n",
       "    </tr>\n",
       "    <tr>\n",
       "      <th>269</th>\n",
       "      <td>93.0</td>\n",
       "    </tr>\n",
       "    <tr>\n",
       "      <th>286</th>\n",
       "      <td>88.0</td>\n",
       "    </tr>\n",
       "    <tr>\n",
       "      <th>441</th>\n",
       "      <td>97.0</td>\n",
       "    </tr>\n",
       "  </tbody>\n",
       "</table>\n",
       "</div>"
      ],
      "text/plain": [
       "       s3\n",
       "35   86.0\n",
       "58   99.0\n",
       "260  91.0\n",
       "261  98.0\n",
       "269  93.0\n",
       "286  88.0\n",
       "441  97.0"
      ]
     },
     "execution_count": 9,
     "metadata": {},
     "output_type": "execute_result"
    }
   ],
   "source": [
    "mean_s3 = df['s3'].mean()\n",
    "median_s3 = df['s3'].median()\n",
    "std_s3 = df['s3'].std()\n",
    "print(f\"The mean s3 is {mean_s3}\")\n",
    "print(f\"The median s3 is {median_s3}\")\n",
    "print(f\"The standard deviation of s3 is {std_s3}\\n\\n\")\n",
    "\n",
    "Q1 = df['s3'].quantile(0.25)\n",
    "Q3 = df['s3'].quantile(0.75)\n",
    "\n",
    "# Calculate the Interquartile Range (IQR)\n",
    "IQR = Q3 - Q1\n",
    "\n",
    "# Determine outliers using IQR method\n",
    "outliers = (df['s3'] < (Q1 - 1.5 * IQR)) | (df['s3'] > (Q3 + 1.5 * IQR))\n",
    "\n",
    "# Filter the DataFrame to show outliers\n",
    "outliers_df = df[outliers][['s3']]\n",
    "\n",
    "# Show outliers\n",
    "print(\"Outliers in the 's3' column:\")\n",
    "outliers_df"
   ]
  },
  {
   "cell_type": "markdown",
   "metadata": {},
   "source": [
    "\n",
    "\n",
    "## s4 Feature: Total cholesterol / HDL\n",
    "\n",
    "##### Description: Provides information on heart disease risk\n",
    "Analysis:\n",
    "\n",
    "\n",
    "Outliers are displayed in a dataframe below the box-plot. If there are none, the dataframe is empty"
   ]
  },
  {
   "cell_type": "code",
   "execution_count": 10,
   "metadata": {},
   "outputs": [
    {
     "name": "stdout",
     "output_type": "stream",
     "text": [
      "The mean s4 is 4.070248868778281\n",
      "The median s4 is 4.0\n",
      "The standard deviation of s4 is 1.2904498966082774\n",
      "\n",
      "\n",
      "Outliers in the 's4' column:\n"
     ]
    },
    {
     "data": {
      "text/html": [
       "<div>\n",
       "<style scoped>\n",
       "    .dataframe tbody tr th:only-of-type {\n",
       "        vertical-align: middle;\n",
       "    }\n",
       "\n",
       "    .dataframe tbody tr th {\n",
       "        vertical-align: top;\n",
       "    }\n",
       "\n",
       "    .dataframe thead th {\n",
       "        text-align: right;\n",
       "    }\n",
       "</style>\n",
       "<table border=\"1\" class=\"dataframe\">\n",
       "  <thead>\n",
       "    <tr style=\"text-align: right;\">\n",
       "      <th></th>\n",
       "      <th>s4</th>\n",
       "    </tr>\n",
       "  </thead>\n",
       "  <tbody>\n",
       "    <tr>\n",
       "      <th>123</th>\n",
       "      <td>9.09</td>\n",
       "    </tr>\n",
       "    <tr>\n",
       "      <th>322</th>\n",
       "      <td>8.28</td>\n",
       "    </tr>\n",
       "  </tbody>\n",
       "</table>\n",
       "</div>"
      ],
      "text/plain": [
       "       s4\n",
       "123  9.09\n",
       "322  8.28"
      ]
     },
     "execution_count": 10,
     "metadata": {},
     "output_type": "execute_result"
    }
   ],
   "source": [
    "mean_s4 = df['s4'].mean()\n",
    "median_s4 = df['s4'].median()\n",
    "std_s4 = df['s4'].std()\n",
    "print(f\"The mean s4 is {mean_s4}\")\n",
    "print(f\"The median s4 is {median_s4}\")\n",
    "print(f\"The standard deviation of s4 is {std_s4}\\n\\n\")\n",
    "\n",
    "Q1 = df['s4'].quantile(0.25)\n",
    "Q3 = df['s4'].quantile(0.75)\n",
    "\n",
    "# Calculate the Interquartile Range (IQR)\n",
    "IQR = Q3 - Q1\n",
    "\n",
    "# Determine outliers using IQR method\n",
    "outliers = (df['s4'] < (Q1 - 1.5 * IQR)) | (df['s4'] > (Q3 + 1.5 * IQR))\n",
    "\n",
    "# Filter the DataFrame to show outliers\n",
    "outliers_df = df[outliers][['s4']]\n",
    "\n",
    "# Show outliers\n",
    "print(\"Outliers in the 's4' column:\")\n",
    "outliers_df"
   ]
  },
  {
   "cell_type": "markdown",
   "metadata": {},
   "source": [
    "\n",
    "\n",
    "## s5 Feature: Possibly log of serum triglycerides level\n",
    "\n",
    "##### Description:\n",
    "Analysis:\n",
    "\n",
    "\n",
    "Outliers are displayed in a dataframe below the box-plot. If there are none, the dataframe is empty"
   ]
  },
  {
   "cell_type": "code",
   "execution_count": 11,
   "metadata": {},
   "outputs": [
    {
     "name": "stdout",
     "output_type": "stream",
     "text": [
      "The mean s5 is 4.641410859728507\n",
      "The median s5 is 4.62005\n",
      "The standard deviation of s5 is 0.5223905610694907\n",
      "\n",
      "\n",
      "Outliers in the 's5' column:\n"
     ]
    },
    {
     "data": {
      "text/html": [
       "<div>\n",
       "<style scoped>\n",
       "    .dataframe tbody tr th:only-of-type {\n",
       "        vertical-align: middle;\n",
       "    }\n",
       "\n",
       "    .dataframe tbody tr th {\n",
       "        vertical-align: top;\n",
       "    }\n",
       "\n",
       "    .dataframe thead th {\n",
       "        text-align: right;\n",
       "    }\n",
       "</style>\n",
       "<table border=\"1\" class=\"dataframe\">\n",
       "  <thead>\n",
       "    <tr style=\"text-align: right;\">\n",
       "      <th></th>\n",
       "      <th>s5</th>\n",
       "    </tr>\n",
       "  </thead>\n",
       "  <tbody>\n",
       "    <tr>\n",
       "      <th>23</th>\n",
       "      <td>6.1070</td>\n",
       "    </tr>\n",
       "    <tr>\n",
       "      <th>169</th>\n",
       "      <td>6.1070</td>\n",
       "    </tr>\n",
       "    <tr>\n",
       "      <th>322</th>\n",
       "      <td>6.1048</td>\n",
       "    </tr>\n",
       "    <tr>\n",
       "      <th>353</th>\n",
       "      <td>6.0936</td>\n",
       "    </tr>\n",
       "  </tbody>\n",
       "</table>\n",
       "</div>"
      ],
      "text/plain": [
       "         s5\n",
       "23   6.1070\n",
       "169  6.1070\n",
       "322  6.1048\n",
       "353  6.0936"
      ]
     },
     "execution_count": 11,
     "metadata": {},
     "output_type": "execute_result"
    }
   ],
   "source": [
    "mean_s5 = df['s5'].mean()\n",
    "median_s5 = df['s5'].median()\n",
    "std_s5 = df['s5'].std()\n",
    "print(f\"The mean s5 is {mean_s5}\")\n",
    "print(f\"The median s5 is {median_s5}\")\n",
    "print(f\"The standard deviation of s5 is {std_s5}\\n\\n\")\n",
    "\n",
    "Q1 = df['s5'].quantile(0.25)\n",
    "Q3 = df['s5'].quantile(0.75)\n",
    "\n",
    "# Calculate the Interquartile Range (IQR)\n",
    "IQR = Q3 - Q1\n",
    "\n",
    "# Determine outliers using IQR method\n",
    "outliers = (df['s5'] < (Q1 - 1.5 * IQR)) | (df['s5'] > (Q3 + 1.5 * IQR))\n",
    "\n",
    "# Filter the DataFrame to show outliers\n",
    "outliers_df = df[outliers][['s5']]\n",
    "\n",
    "# Show outliers\n",
    "print(\"Outliers in the 's5' column:\")\n",
    "outliers_df"
   ]
  },
  {
   "cell_type": "markdown",
   "metadata": {},
   "source": [
    "\n",
    "\n",
    "## s6 Feature: Blood sugar level\n",
    "\n",
    "##### Description: \n",
    "Analysis:\n",
    "\n",
    "\n",
    "Outliers are displayed in a dataframe below the box-plot. If there are none, the dataframe is empty"
   ]
  },
  {
   "cell_type": "code",
   "execution_count": 12,
   "metadata": {},
   "outputs": [
    {
     "name": "stdout",
     "output_type": "stream",
     "text": [
      "The mean s6 is 91.26018099547511\n",
      "The median s6 is 91.0\n",
      "The standard deviation of s6 is 11.496334739334172\n",
      "\n",
      "\n",
      "Outliers in the 's6' column:\n"
     ]
    },
    {
     "data": {
      "text/html": [
       "<div>\n",
       "<style scoped>\n",
       "    .dataframe tbody tr th:only-of-type {\n",
       "        vertical-align: middle;\n",
       "    }\n",
       "\n",
       "    .dataframe tbody tr th {\n",
       "        vertical-align: top;\n",
       "    }\n",
       "\n",
       "    .dataframe thead th {\n",
       "        text-align: right;\n",
       "    }\n",
       "</style>\n",
       "<table border=\"1\" class=\"dataframe\">\n",
       "  <thead>\n",
       "    <tr style=\"text-align: right;\">\n",
       "      <th></th>\n",
       "      <th>s6</th>\n",
       "    </tr>\n",
       "  </thead>\n",
       "  <tbody>\n",
       "    <tr>\n",
       "      <th>23</th>\n",
       "      <td>124.0</td>\n",
       "    </tr>\n",
       "    <tr>\n",
       "      <th>84</th>\n",
       "      <td>60.0</td>\n",
       "    </tr>\n",
       "    <tr>\n",
       "      <th>117</th>\n",
       "      <td>124.0</td>\n",
       "    </tr>\n",
       "    <tr>\n",
       "      <th>141</th>\n",
       "      <td>123.0</td>\n",
       "    </tr>\n",
       "    <tr>\n",
       "      <th>168</th>\n",
       "      <td>122.0</td>\n",
       "    </tr>\n",
       "    <tr>\n",
       "      <th>245</th>\n",
       "      <td>60.0</td>\n",
       "    </tr>\n",
       "    <tr>\n",
       "      <th>350</th>\n",
       "      <td>124.0</td>\n",
       "    </tr>\n",
       "    <tr>\n",
       "      <th>406</th>\n",
       "      <td>58.0</td>\n",
       "    </tr>\n",
       "    <tr>\n",
       "      <th>428</th>\n",
       "      <td>123.0</td>\n",
       "    </tr>\n",
       "  </tbody>\n",
       "</table>\n",
       "</div>"
      ],
      "text/plain": [
       "        s6\n",
       "23   124.0\n",
       "84    60.0\n",
       "117  124.0\n",
       "141  123.0\n",
       "168  122.0\n",
       "245   60.0\n",
       "350  124.0\n",
       "406   58.0\n",
       "428  123.0"
      ]
     },
     "execution_count": 12,
     "metadata": {},
     "output_type": "execute_result"
    }
   ],
   "source": [
    "mean_s6 = df['s6'].mean()\n",
    "median_s6 = df['s6'].median()\n",
    "std_s6 = df['s6'].std()\n",
    "print(f\"The mean s6 is {mean_s6}\")\n",
    "print(f\"The median s6 is {median_s6}\")\n",
    "print(f\"The standard deviation of s6 is {std_s6}\\n\\n\")\n",
    "\n",
    "Q1 = df['s6'].quantile(0.25)\n",
    "Q3 = df['s6'].quantile(0.75)\n",
    "\n",
    "# Calculate the Interquartile Range (IQR)\n",
    "IQR = Q3 - Q1\n",
    "\n",
    "# Determine outliers using IQR method\n",
    "outliers = (df['s6'] < (Q1 - 1.5 * IQR)) | (df['s6'] > (Q3 + 1.5 * IQR))\n",
    "\n",
    "# Filter the DataFrame to show outliers\n",
    "outliers_df = df[outliers][['s6']]\n",
    "\n",
    "# Show outliers\n",
    "print(\"Outliers in the 's6' column:\")\n",
    "outliers_df"
   ]
  },
  {
   "cell_type": "markdown",
   "metadata": {},
   "source": [
    "## Correlation Graphs\n",
    "\n",
    "- Finding which feature has the best correlation to the target "
   ]
  },
  {
   "cell_type": "markdown",
   "metadata": {},
   "source": [
    "\n",
    "### Correlation Coefficients:\n",
    "\n",
    "- Target vs Age: 0.1877\n",
    "\n",
    "- Target vs Sex: 0.0430\n",
    "\n",
    "- Target vs BMI: 0.5864 (high 1)\n",
    "\n",
    "- Target vs BP: 0.4415\n",
    "\n",
    "- Target vs s1: 0.2120\n",
    "\n",
    "- Target vs s2: 0.1741\n",
    "\n",
    "- Target vs s3: -0.3948\n",
    "\n",
    "- Target vs s4: 0.4305\n",
    "\n",
    "- Target vs s5: 0.5659 (high 2)\n",
    "\n",
    "- Target vs s6: 0.3825"
   ]
  },
  {
   "cell_type": "code",
   "execution_count": 13,
   "metadata": {},
   "outputs": [
    {
     "data": {
      "text/plain": [
       "0.5864501344746887"
      ]
     },
     "execution_count": 13,
     "metadata": {},
     "output_type": "execute_result"
    },
    {
     "data": {
      "image/png": "[encoded data removed]",
      "text/plain": [
       "<Figure size 640x480 with 1 Axes>"
      ]
     },
     "metadata": {},
     "output_type": "display_data"
    },
    {
     "data": {
      "text/plain": [
       "<Figure size 400x400 with 0 Axes>"
      ]
     },
     "metadata": {},
     "output_type": "display_data"
    }
   ],
   "source": [
    "feature_x = \"bmi\"\n",
    "feature_y = \"target\"\n",
    "\n",
    "sns.scatterplot(x=feature_x, y =  feature_y, data = df)\n",
    "plt.title(\"Target vs BMI\")\n",
    "plt.figure(figsize=(4,4))\n",
    "correlationcoeff = df[feature_x].corr(df[feature_y])\n",
    "correlationcoeff"
   ]
  },
  {
   "cell_type": "code",
   "execution_count": 14,
   "metadata": {},
   "outputs": [],
   "source": [
    "from sklearn.model_selection import train_test_split\n",
    "\n",
    "x = df.drop(columns = ['target'])\n",
    "y = df['target']"
   ]
  },
  {
   "cell_type": "code",
   "execution_count": 15,
   "metadata": {},
   "outputs": [],
   "source": [
    "X_train, X_test, y_train, y_test = train_test_split(x,y,test_size=0.2)"
   ]
  },
  {
   "cell_type": "code",
   "execution_count": 16,
   "metadata": {},
   "outputs": [],
   "source": [
    "from sklearn.linear_model import LinearRegression # 0.4597\n",
    "\n",
    "model = LinearRegression()\n",
    "model.fit(X_train, y_train)\n",
    "y_pred = model.predict(X_test)\n"
   ]
  },
  {
   "cell_type": "code",
   "execution_count": null,
   "metadata": {},
   "outputs": [],
   "source": []
  },
  {
   "cell_type": "code",
   "execution_count": 17,
   "metadata": {},
   "outputs": [],
   "source": [
    "# from sklearn.linear_model import Lasso # 0.4585\n",
    "\n",
    "# model = Lasso(alpha=0.1)\n",
    "# model.fit(X_train, y_train)\n",
    "# y_pred = model.predict(X_test)"
   ]
  },
  {
   "cell_type": "code",
   "execution_count": 18,
   "metadata": {},
   "outputs": [],
   "source": [
    "# from sklearn.tree import DecisionTreeRegressor # 0.2096\n",
    "\n",
    "# model = DecisionTreeRegressor(max_depth=4)\n",
    "# model.fit(X_train, y_train)\n",
    "# y_pred = model.predict(X_test)"
   ]
  },
  {
   "cell_type": "code",
   "execution_count": 19,
   "metadata": {},
   "outputs": [],
   "source": [
    "# from sklearn.ensemble import RandomForestRegressor # 0.3642\n",
    "\n",
    "# model = RandomForestRegressor(n_estimators=100, random_state=42)\n",
    "# model.fit(X_train, y_train)\n",
    "# y_pred = model.predict(X_test)"
   ]
  },
  {
   "cell_type": "code",
   "execution_count": 20,
   "metadata": {},
   "outputs": [],
   "source": [
    "# from sklearn.ensemble import GradientBoostingRegressor # 0.3433\n",
    "\n",
    "# model = GradientBoostingRegressor(n_estimators=100, learning_rate=0.1, random_state=42)\n",
    "# model.fit(X_train, y_train)\n",
    "# y_pred = model.predict(X_test)"
   ]
  },
  {
   "cell_type": "code",
   "execution_count": 21,
   "metadata": {},
   "outputs": [],
   "source": [
    "# from sklearn.svm import SVR # 0.0043\n",
    "\n",
    "# model = SVR(kernel='rbf', C=1.0, epsilon=0.1)\n",
    "# model.fit(X_train, y_train)\n",
    "# y_pred = model.predict(X_test)"
   ]
  },
  {
   "cell_type": "code",
   "execution_count": 22,
   "metadata": {},
   "outputs": [
    {
     "data": {
      "text/plain": [
       "0.45624624339427855"
      ]
     },
     "execution_count": 22,
     "metadata": {},
     "output_type": "execute_result"
    }
   ],
   "source": [
    "from sklearn.metrics import mean_squared_error, r2_score\n",
    "mse = mean_squared_error(y_test, y_pred)\n",
    "r2 = r2_score(y_test, y_pred)\n",
    "r2"
   ]
  },
  {
   "cell_type": "code",
   "execution_count": null,
   "metadata": {},
   "outputs": [],
   "source": []
  },
  {
   "cell_type": "code",
   "execution_count": null,
   "metadata": {},
   "outputs": [],
   "source": []
  }
 ],
 "metadata": {
  "kernelspec": {
   "display_name": "Python 3",
   "language": "python",
   "name": "python3"
  },
  "language_info": {
   "codemirror_mode": {
    "name": "ipython",
    "version": 3
   },
   "file_extension": ".py",
   "mimetype": "text/x-python",
   "name": "python",
   "nbconvert_exporter": "python",
   "pygments_lexer": "ipython3",
   "version": "3.12.4"
  }
 },
 "nbformat": 4,
 "nbformat_minor": 2
}
